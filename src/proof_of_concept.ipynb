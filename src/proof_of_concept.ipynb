{
 "cells": [
  {
   "cell_type": "code",
   "execution_count": 1,
   "metadata": {},
   "outputs": [],
   "source": [
    "import numpy as np\n",
    "import random\n",
    "import matplotlib.pyplot as plt\n",
    "import seaborn as sns"
   ]
  },
  {
   "cell_type": "code",
   "execution_count": 2,
   "metadata": {},
   "outputs": [],
   "source": [
    "#Start with a simple 7 x 7 test input\n",
    "\n",
    "topography = np.array([[1,1,0,-1,1,1,1],\n",
    "                         [1,1,2,3,4,3,1],\n",
    "                         [2,3,1,0,3,4,3],\n",
    "                         [1,0,1,1,3,2,3],\n",
    "                         [0,-1,-2,1,3,3,2],\n",
    "                         [2,3,-1,1,3,0,-1],\n",
    "                         [2,3,0,1,3,-1,0]])\n"
   ]
  },
  {
   "cell_type": "code",
   "execution_count": 78,
   "metadata": {},
   "outputs": [],
   "source": [
    "def apply_sea_level(sealevel: int, topography: np.ndarray) -> np.ndarray:\n",
    "    '''function returns coordinates that would be below the sea level as 1\n",
    "    and anything above as 0'''\n",
    "    \n",
    "    #simple thresholding\n",
    "    boolean_topography = topography < sealevel\n",
    "\n",
    "    return boolean_topography\n",
    "\n",
    "def find_underwater_states(thresholded_topography: np.ndarray) -> np.ndarray:\n",
    "    '''Function performs connected components analysis to find the different \n",
    "    bodies in the topography. It then analyses whether the body is connected to\n",
    "    the border. It returns an array of land elevations normalised to the set \n",
    "    sea level.'''\n",
    "    x_size,y_size = thresholded_topography.shape\n",
    "\n",
    "    #pad the array to represent connection to the sea\n",
    "    connected_topography = np.pad(np.zeros([x_size,y_size]),[(1,1),(1,1)],mode='constant',constant_values=10)\n",
    "    \n",
    "    blob_count = 0\n",
    "    total_neighbours = 9\n",
    "    neighbors_checked = 0\n",
    "    error_count = 0\n",
    "    sea_connection = 0\n",
    "    #iterate through the thresholded topography and populate the connected one\n",
    "    neighbouring_indices = [-1,0,1]\n",
    "    for i in range(x_size):\n",
    "        for j in range(y_size):\n",
    "            neighbors_checked = 0\n",
    "            error_count = 0\n",
    "\n",
    "            #offset indices on the connected topograhy\n",
    "            x,y = i + 1, j + 1\n",
    "            if thresholded_topography[i,j] == True:\n",
    "                \n",
    "                \n",
    "                #if state is underwater, check neigbours\n",
    "                for dx in neighbouring_indices:\n",
    "                    for dy in neighbouring_indices:\n",
    "                        #TODO:raise index error exception is a negative index is being tried\n",
    "                        try:\n",
    "                            #if neighbour is already assigned a blob, assign \n",
    "                            #current state to the same blob\n",
    "\n",
    "                            if connected_topography[x + dx,y + dy] > 0:\n",
    "                                connected_topography[x,y] = \\\n",
    "                                    connected_topography[x + dx,y + dy]    \n",
    "                            else:\n",
    "                                #increment counter recording \n",
    "                                neighbors_checked += 1\n",
    "\n",
    "                        # #catch exceptions to do with index errors \n",
    "                        except IndexError as e:\n",
    "                            error_count += 1\n",
    "                        \n",
    "            #if no neighbours were found\n",
    "            if neighbors_checked + error_count == total_neighbours:\n",
    "                blob_count += 1\n",
    "                connected_topography[x,y] = blob_count\n",
    "            # print(neighbors_checked,error_count,total_neighbours)\n",
    "    \n",
    "    # first_pass = connected_topography[1:-1,1:-1]\n",
    "    #iterate through the topography again to resolve conflicts, and remove any\n",
    "    #states not connected to the edges\n",
    "    for i in range(x_size):\n",
    "        for j in range(y_size):\n",
    "            #again offset the indices\n",
    "            x, y = i + 1, j + 1\n",
    "\n",
    "            if connected_topography[x,y] != 0:\n",
    "                sea_connection = 0\n",
    "                #check if any neighbours = padded value\n",
    "                try:\n",
    "                    for dx in neighbouring_indices:\n",
    "                        for dy in neighbouring_indices:\n",
    "                            if connected_topography[x+dx,y+dy] == 10:\n",
    "                                sea_connection += 1\n",
    "                except IndexError as e:\n",
    "                    continue\n",
    "\n",
    "                connected_topography[x,y] = 10 if sea_connection > 0 else 0\n",
    "                \n",
    "\n",
    "\n",
    "\n",
    "\n",
    "    #return the non-padded connected topography\n",
    "    return connected_topography[1:-1,1:-1]\n",
    "    "
   ]
  },
  {
   "cell_type": "code",
   "execution_count": 83,
   "metadata": {},
   "outputs": [
    {
     "data": {
      "text/plain": [
       "<matplotlib.image.AxesImage at 0x26d185e86a0>"
      ]
     },
     "execution_count": 83,
     "metadata": {},
     "output_type": "execute_result"
    },
    {
     "data": {
      "image/png": "[encoded data removed]",
      "text/plain": [
       "<Figure size 640x480 with 1 Axes>"
      ]
     },
     "metadata": {},
     "output_type": "display_data"
    },
    {
     "data": {
      "image/png": "[encoded data removed]",
      "text/plain": [
       "<Figure size 640x480 with 1 Axes>"
      ]
     },
     "metadata": {},
     "output_type": "display_data"
    }
   ],
   "source": [
    "#define variable for sealevel\n",
    "sealevel = 1\n",
    "\n",
    "new_topography = apply_sea_level(sealevel, topography)\n",
    "plt.imshow(new_topography)\n",
    "connected = find_underwater_states(new_topography)\n",
    "plt.figure()\n",
    "plt.imshow(connected)\n"
   ]
  }
 ],
 "metadata": {
  "kernelspec": {
   "display_name": "Python 3.10.2 ('vslr': venv)",
   "language": "python",
   "name": "python3"
  },
  "language_info": {
   "codemirror_mode": {
    "name": "ipython",
    "version": 3
   },
   "file_extension": ".py",
   "mimetype": "text/x-python",
   "name": "python",
   "nbconvert_exporter": "python",
   "pygments_lexer": "ipython3",
   "version": "3.10.2"
  },
  "orig_nbformat": 4,
  "vscode": {
   "interpreter": {
    "hash": "16619df276b99d88589b45d0c38f65cabad72c2cded3faf586662464b80fceef"
   }
  }
 },
 "nbformat": 4,
 "nbformat_minor": 2
}
