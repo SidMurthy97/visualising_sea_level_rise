{
 "cells": [
  {
   "cell_type": "code",
   "execution_count": null,
   "metadata": {},
   "outputs": [],
   "source": [
    "import numpy as np\n",
    "import matplotlib.pyplot as plt\n",
    "from sealevel_rise import apply_sea_level, find_underwater_states"
   ]
  },
  {
   "cell_type": "code",
   "execution_count": null,
   "metadata": {},
   "outputs": [],
   "source": [
    "#Start with a simple 7 x 7 test input\n",
    "\n",
    "topography = np.array([[1,1,0,-1,1,1,1],\n",
    "                         [1,1,2,3,4,3,1],\n",
    "                         [2,3,1,0,3,4,3],\n",
    "                         [1,0,1,1,3,2,3],\n",
    "                         [0,-1,-2,1,3,3,2],\n",
    "                         [2,3,-1,1,3,0,-1],\n",
    "                         [2,3,0,1,3,-1,0]])\n"
   ]
  },
  {
   "cell_type": "code",
   "execution_count": null,
   "metadata": {},
   "outputs": [],
   "source": [
    "#define variable for sealevel\n",
    "sealevels = [2]\n",
    "\n",
    "for sealevel in sealevels:\n",
    "    new_topography = apply_sea_level(sealevel, topography)\n",
    "    connected = find_underwater_states(new_topography)\n",
    "    plt.figure()\n",
    "    plt.imshow(connected)\n"
   ]
  },
  {
   "cell_type": "code",
   "execution_count": null,
   "metadata": {},
   "outputs": [],
   "source": []
  }
 ],
 "metadata": {
  "kernelspec": {
   "display_name": "Python 3.10.2 ('vslr': venv)",
   "language": "python",
   "name": "python3"
  },
  "language_info": {
   "codemirror_mode": {
    "name": "ipython",
    "version": 3
   },
   "file_extension": ".py",
   "mimetype": "text/x-python",
   "name": "python",
   "nbconvert_exporter": "python",
   "pygments_lexer": "ipython3",
   "version": "3.10.2"
  },
  "orig_nbformat": 4,
  "vscode": {
   "interpreter": {
    "hash": "16619df276b99d88589b45d0c38f65cabad72c2cded3faf586662464b80fceef"
   }
  }
 },
 "nbformat": 4,
 "nbformat_minor": 2
}
