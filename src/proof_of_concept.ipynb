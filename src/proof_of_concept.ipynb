{
 "cells": [
  {
   "cell_type": "code",
   "execution_count": 1,
   "metadata": {},
   "outputs": [],
   "source": [
    "import numpy as np\n",
    "import random\n",
    "import matplotlib.pyplot as plt\n",
    "import seaborn as sns"
   ]
  },
  {
   "cell_type": "code",
   "execution_count": 36,
   "metadata": {},
   "outputs": [],
   "source": [
    "#Start with a simple 7 x 7 test input\n",
    "\n",
    "topography = np.array([[1,1,0,-1,1,1,1],\n",
    "                         [1,1,2,3,4,3,1],\n",
    "                         [2,3,1,0,3,4,3],\n",
    "                         [1,0,1,1,3,2,3],\n",
    "                         [0,-1,-2,1,3,3,2],\n",
    "                         [2,3,-1,1,3,0,-1],\n",
    "                         [2,3,0,1,3,-1,0]])\n"
   ]
  },
  {
   "cell_type": "code",
   "execution_count": 39,
   "metadata": {},
   "outputs": [],
   "source": [
    "def apply_sea_level(sealevel: int, topography: np.ndarray) -> np.ndarray:\n",
    "    '''function returns coordinates that would be below the sea level as 1\n",
    "    and anything above as 0'''\n",
    "    \n",
    "    #simple thresholding\n",
    "    boolean_topography = topography < sealevel\n",
    "\n",
    "    return boolean_topography\n",
    "\n",
    "def find_underwater_states(new_topography: np.ndarray) -> np.ndarray:\n",
    "    '''Function performs connected components analysis to find the different \n",
    "    bodies in the topography. It then analyses whether the body is connected to\n",
    "    the border. It returns an array of land elevations normalised to the set \n",
    "    sea level.'''\n",
    "    x,y = new_topography.shape\n",
    "    connecected_topography = np.zeros((x,y))\n",
    "    body_count = 0\n",
    "\n",
    "    neighbouring_indices = [-1,0,1]\n",
    "    total_neighbours = 8\n",
    "    neighbour_count = 0\n",
    "    skipped_count = 0\n",
    "    break_count = 0\n",
    "    for i in range(x):\n",
    "        for j in range(y):\n",
    "\n",
    "            #if state is candidate to be under water\n",
    "            if new_topography[i,j] == True:\n",
    "                #skip the first iteration but increment the count\n",
    "                if body_count == 0:\n",
    "                    body_count += 1\n",
    "                    connecected_topography[i,j] = body_count\n",
    "                \n",
    "                #if it isn't the first iteration, check for nearby connections\n",
    "                else:\n",
    "                    neighbour_count = 0\n",
    "                    skipped_count = 0\n",
    "                    break_count = 0\n",
    "                    for dx in neighbouring_indices:\n",
    "                        if break_count > 0:\n",
    "                            break\n",
    "                        for dy in neighbouring_indices:\n",
    "                            #skip the index in question\n",
    "                            if dx == 0 and dy == 0: \n",
    "                                continue\n",
    "                            \n",
    "                            try:\n",
    "                                if new_topography[i + dx, j + dy] == True:\n",
    "                                    break_count += 1\n",
    "                                else:\n",
    "                                    neighbour_count += 1\n",
    "                                \n",
    "                            except IndexError as e:\n",
    "                                #if index isnt in the array, skip\n",
    "                                print(e)\n",
    "                                skipped_count += 1\n",
    "                        \n",
    "                        \n",
    "                                \n",
    "                    print(i,j,neighbour_count,skipped_count)\n",
    "                    #if all neighbours were searched, it means current index \n",
    "                    #must be a new body\n",
    "\n",
    "                    #need to work on labelling\n",
    "                    if neighbour_count == total_neighbours - skipped_count:\n",
    "                        body_count += 1\n",
    "                    \n",
    "                    #otherwise, must be connected to an old body\n",
    "                    connecected_topography[i,j] = body_count\n",
    "                \n",
    "\n",
    "    return connecected_topography\n",
    "\n",
    "\n",
    "\n",
    "    "
   ]
  },
  {
   "cell_type": "code",
   "execution_count": 40,
   "metadata": {},
   "outputs": [
    {
     "name": "stdout",
     "output_type": "stream",
     "text": [
      "4 1 4 0\n",
      "4 2 4 0\n",
      "5 2 1 0\n",
      "index 7 is out of bounds for axis 1 with size 7\n",
      "index 7 is out of bounds for axis 1 with size 7\n",
      "index 7 is out of bounds for axis 1 with size 7\n",
      "5 6 4 3\n",
      "6 5 2 0\n"
     ]
    },
    {
     "data": {
      "text/plain": [
       "<matplotlib.image.AxesImage at 0x270d6640700>"
      ]
     },
     "execution_count": 40,
     "metadata": {},
     "output_type": "execute_result"
    },
    {
     "data": {
      "image/png": "[encoded data removed]",
      "text/plain": [
       "<Figure size 640x480 with 1 Axes>"
      ]
     },
     "metadata": {},
     "output_type": "display_data"
    },
    {
     "data": {
      "image/png": "[encoded data removed]",
      "text/plain": [
       "<Figure size 640x480 with 1 Axes>"
      ]
     },
     "metadata": {},
     "output_type": "display_data"
    }
   ],
   "source": [
    "#define variable for sealevel\n",
    "sealevel = 0 \n",
    "\n",
    "new_topography = apply_sea_level(sealevel, topography)\n",
    "plt.imshow(new_topography)\n",
    "connected = find_underwater_states(new_topography)\n",
    "plt.figure()\n",
    "plt.imshow(connected)\n"
   ]
  }
 ],
 "metadata": {
  "kernelspec": {
   "display_name": "Python 3.10.2 ('vslr': venv)",
   "language": "python",
   "name": "python3"
  },
  "language_info": {
   "codemirror_mode": {
    "name": "ipython",
    "version": 3
   },
   "file_extension": ".py",
   "mimetype": "text/x-python",
   "name": "python",
   "nbconvert_exporter": "python",
   "pygments_lexer": "ipython3",
   "version": "3.10.2"
  },
  "orig_nbformat": 4,
  "vscode": {
   "interpreter": {
    "hash": "16619df276b99d88589b45d0c38f65cabad72c2cded3faf586662464b80fceef"
   }
  }
 },
 "nbformat": 4,
 "nbformat_minor": 2
}
